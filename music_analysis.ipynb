{
  "cells": [
    {
      "cell_type": "markdown",
      "metadata": {
        "deletable": false,
        "editable": false,
        "id": "E0vqbgi9ay0H"
      },
      "source": [
        "# Яндекс Музыка"
      ]
    },
    {
      "cell_type": "markdown",
      "metadata": {
        "deletable": false,
        "editable": false,
        "id": "VUC88oWjTJw2"
      },
      "source": [
        "Сравнение Москвы и Петербурга окружено мифами. Например:\n",
        " * Москва — мегаполис, подчинённый жёсткому ритму рабочей недели;\n",
        " * Петербург — культурная столица, со своими вкусами.\n",
        "\n",
        "На данных Яндекс Музыки вы сравните поведение пользователей двух столиц.\n",
        "\n",
        "**Цель исследования** — проверьте три гипотезы:\n",
        "1. Активность пользователей зависит от дня недели. Причём в Москве и Петербурге это проявляется по-разному.\n",
        "2. В понедельник утром в Москве преобладают одни жанры, а в Петербурге — другие. Так же и вечером пятницы преобладают разные жанры — в зависимости от города. \n",
        "3. Москва и Петербург предпочитают разные жанры музыки. В Москве чаще слушают поп-музыку, в Петербурге — русский рэп.\n",
        "\n",
        "**Ход исследования**\n",
        " Исследование пройдёт в три этапа:\n",
        " 1. Обзор данных.\n",
        " 2. Предобработка данных.\n",
        " 3. Проверка гипотез.\n",
        "\n"
      ]
    },
    {
      "cell_type": "markdown",
      "metadata": {
        "deletable": false,
        "editable": false,
        "id": "Ml1hmfXC_Zcs"
      },
      "source": [
        "## Обзор данных\n",
        "\n",
        "Составьте первое представление о данных Яндекс Музыки.\n",
        "\n",
        "\n"
      ]
    },
    {
      "cell_type": "markdown",
      "metadata": {
        "deletable": false,
        "editable": false,
        "id": "57eAOGIz_Zcs",
        "tags": [
          "start_task"
        ]
      },
      "source": [
        "**Задание 1**\n",
        "\n",
        "Основной инструмент аналитика — `pandas`. Импортируйте эту библиотеку."
      ]
    },
    {
      "cell_type": "code",
      "execution_count": 1,
      "metadata": {
        "deletable": false,
        "id": "AXN7PHPN_Zcs"
      },
      "outputs": [],
      "source": [
        "import pandas as pd # импорт библиотеки pandas"
      ]
    },
    {
      "cell_type": "markdown",
      "metadata": {
        "deletable": false,
        "editable": false,
        "id": "SG23P8tt_Zcs",
        "tags": [
          "start_task"
        ]
      },
      "source": [
        "**Задание 2**\n",
        "\n",
        "Прочитайте файл `yandex_music_project.csv` из папки `/datasets` и сохраните его в переменной `df`:"
      ]
    },
    {
      "cell_type": "code",
      "execution_count": 4,
      "metadata": {
        "deletable": false,
        "id": "fFVu7vqh_Zct",
        "scrolled": true
      },
      "outputs": [],
      "source": [
        "df = pd.read_csv('yandex_music_project.csv') # чтение файла с данными и сохранение в df"
      ]
    },
    {
      "cell_type": "markdown",
      "metadata": {
        "deletable": false,
        "editable": false,
        "id": "rDoOMd3uTqnZ",
        "tags": [
          "start_task"
        ]
      },
      "source": [
        "**Задание 3**\n",
        "\n",
        "\n",
        "Выведите на экран первые десять строк таблицы:"
      ]
    },
    {
      "cell_type": "code",
      "execution_count": 5,
      "metadata": {
        "deletable": false,
        "id": "oWTVX3gW_Zct",
        "colab": {
          "base_uri": "https://localhost:8080/",
          "height": 363
        },
        "outputId": "2aaf4c99-34ac-459f-d93e-a71816097a14"
      },
      "outputs": [
        {
          "output_type": "execute_result",
          "data": {
            "text/plain": [
              "     userID                        Track            artist   genre  \\\n",
              "0  FFB692EC            Kamigata To Boots  The Mass Missile    rock   \n",
              "1  55204538  Delayed Because of Accident  Andreas Rönnberg    rock   \n",
              "2    20EC38            Funiculì funiculà       Mario Lanza     pop   \n",
              "3  A3DD03C9        Dragons in the Sunset        Fire + Ice    folk   \n",
              "4  E2DC1FAE                  Soul People        Space Echo   dance   \n",
              "5  842029A1                    Преданная         IMPERVTOR  rusrap   \n",
              "6  4CB90AA5                         True      Roman Messer   dance   \n",
              "7  F03E1C1F             Feeling This Way   Polina Griffith   dance   \n",
              "8  8FA1D3BE     И вновь продолжается бой               NaN  ruspop   \n",
              "9  E772D5C0                    Pessimist               NaN   dance   \n",
              "\n",
              "             City        time        Day  \n",
              "0  Saint-Petersburg  20:28:33  Wednesday  \n",
              "1            Moscow  14:07:09     Friday  \n",
              "2  Saint-Petersburg  20:58:07  Wednesday  \n",
              "3  Saint-Petersburg  08:37:09     Monday  \n",
              "4            Moscow  08:34:34     Monday  \n",
              "5  Saint-Petersburg  13:09:41     Friday  \n",
              "6            Moscow  13:00:07  Wednesday  \n",
              "7            Moscow  20:47:49  Wednesday  \n",
              "8            Moscow  09:17:40     Friday  \n",
              "9  Saint-Petersburg  21:20:49  Wednesday  "
            ],
            "text/html": [
              "\n",
              "  <div id=\"df-8e60d6e1-9870-4403-b5be-c271518f0ee8\">\n",
              "    <div class=\"colab-df-container\">\n",
              "      <div>\n",
              "<style scoped>\n",
              "    .dataframe tbody tr th:only-of-type {\n",
              "        vertical-align: middle;\n",
              "    }\n",
              "\n",
              "    .dataframe tbody tr th {\n",
              "        vertical-align: top;\n",
              "    }\n",
              "\n",
              "    .dataframe thead th {\n",
              "        text-align: right;\n",
              "    }\n",
              "</style>\n",
              "<table border=\"1\" class=\"dataframe\">\n",
              "  <thead>\n",
              "    <tr style=\"text-align: right;\">\n",
              "      <th></th>\n",
              "      <th>userID</th>\n",
              "      <th>Track</th>\n",
              "      <th>artist</th>\n",
              "      <th>genre</th>\n",
              "      <th>City</th>\n",
              "      <th>time</th>\n",
              "      <th>Day</th>\n",
              "    </tr>\n",
              "  </thead>\n",
              "  <tbody>\n",
              "    <tr>\n",
              "      <th>0</th>\n",
              "      <td>FFB692EC</td>\n",
              "      <td>Kamigata To Boots</td>\n",
              "      <td>The Mass Missile</td>\n",
              "      <td>rock</td>\n",
              "      <td>Saint-Petersburg</td>\n",
              "      <td>20:28:33</td>\n",
              "      <td>Wednesday</td>\n",
              "    </tr>\n",
              "    <tr>\n",
              "      <th>1</th>\n",
              "      <td>55204538</td>\n",
              "      <td>Delayed Because of Accident</td>\n",
              "      <td>Andreas Rönnberg</td>\n",
              "      <td>rock</td>\n",
              "      <td>Moscow</td>\n",
              "      <td>14:07:09</td>\n",
              "      <td>Friday</td>\n",
              "    </tr>\n",
              "    <tr>\n",
              "      <th>2</th>\n",
              "      <td>20EC38</td>\n",
              "      <td>Funiculì funiculà</td>\n",
              "      <td>Mario Lanza</td>\n",
              "      <td>pop</td>\n",
              "      <td>Saint-Petersburg</td>\n",
              "      <td>20:58:07</td>\n",
              "      <td>Wednesday</td>\n",
              "    </tr>\n",
              "    <tr>\n",
              "      <th>3</th>\n",
              "      <td>A3DD03C9</td>\n",
              "      <td>Dragons in the Sunset</td>\n",
              "      <td>Fire + Ice</td>\n",
              "      <td>folk</td>\n",
              "      <td>Saint-Petersburg</td>\n",
              "      <td>08:37:09</td>\n",
              "      <td>Monday</td>\n",
              "    </tr>\n",
              "    <tr>\n",
              "      <th>4</th>\n",
              "      <td>E2DC1FAE</td>\n",
              "      <td>Soul People</td>\n",
              "      <td>Space Echo</td>\n",
              "      <td>dance</td>\n",
              "      <td>Moscow</td>\n",
              "      <td>08:34:34</td>\n",
              "      <td>Monday</td>\n",
              "    </tr>\n",
              "    <tr>\n",
              "      <th>5</th>\n",
              "      <td>842029A1</td>\n",
              "      <td>Преданная</td>\n",
              "      <td>IMPERVTOR</td>\n",
              "      <td>rusrap</td>\n",
              "      <td>Saint-Petersburg</td>\n",
              "      <td>13:09:41</td>\n",
              "      <td>Friday</td>\n",
              "    </tr>\n",
              "    <tr>\n",
              "      <th>6</th>\n",
              "      <td>4CB90AA5</td>\n",
              "      <td>True</td>\n",
              "      <td>Roman Messer</td>\n",
              "      <td>dance</td>\n",
              "      <td>Moscow</td>\n",
              "      <td>13:00:07</td>\n",
              "      <td>Wednesday</td>\n",
              "    </tr>\n",
              "    <tr>\n",
              "      <th>7</th>\n",
              "      <td>F03E1C1F</td>\n",
              "      <td>Feeling This Way</td>\n",
              "      <td>Polina Griffith</td>\n",
              "      <td>dance</td>\n",
              "      <td>Moscow</td>\n",
              "      <td>20:47:49</td>\n",
              "      <td>Wednesday</td>\n",
              "    </tr>\n",
              "    <tr>\n",
              "      <th>8</th>\n",
              "      <td>8FA1D3BE</td>\n",
              "      <td>И вновь продолжается бой</td>\n",
              "      <td>NaN</td>\n",
              "      <td>ruspop</td>\n",
              "      <td>Moscow</td>\n",
              "      <td>09:17:40</td>\n",
              "      <td>Friday</td>\n",
              "    </tr>\n",
              "    <tr>\n",
              "      <th>9</th>\n",
              "      <td>E772D5C0</td>\n",
              "      <td>Pessimist</td>\n",
              "      <td>NaN</td>\n",
              "      <td>dance</td>\n",
              "      <td>Saint-Petersburg</td>\n",
              "      <td>21:20:49</td>\n",
              "      <td>Wednesday</td>\n",
              "    </tr>\n",
              "  </tbody>\n",
              "</table>\n",
              "</div>\n",
              "      <button class=\"colab-df-convert\" onclick=\"convertToInteractive('df-8e60d6e1-9870-4403-b5be-c271518f0ee8')\"\n",
              "              title=\"Convert this dataframe to an interactive table.\"\n",
              "              style=\"display:none;\">\n",
              "        \n",
              "  <svg xmlns=\"http://www.w3.org/2000/svg\" height=\"24px\"viewBox=\"0 0 24 24\"\n",
              "       width=\"24px\">\n",
              "    <path d=\"M0 0h24v24H0V0z\" fill=\"none\"/>\n",
              "    <path d=\"M18.56 5.44l.94 2.06.94-2.06 2.06-.94-2.06-.94-.94-2.06-.94 2.06-2.06.94zm-11 1L8.5 8.5l.94-2.06 2.06-.94-2.06-.94L8.5 2.5l-.94 2.06-2.06.94zm10 10l.94 2.06.94-2.06 2.06-.94-2.06-.94-.94-2.06-.94 2.06-2.06.94z\"/><path d=\"M17.41 7.96l-1.37-1.37c-.4-.4-.92-.59-1.43-.59-.52 0-1.04.2-1.43.59L10.3 9.45l-7.72 7.72c-.78.78-.78 2.05 0 2.83L4 21.41c.39.39.9.59 1.41.59.51 0 1.02-.2 1.41-.59l7.78-7.78 2.81-2.81c.8-.78.8-2.07 0-2.86zM5.41 20L4 18.59l7.72-7.72 1.47 1.35L5.41 20z\"/>\n",
              "  </svg>\n",
              "      </button>\n",
              "      \n",
              "  <style>\n",
              "    .colab-df-container {\n",
              "      display:flex;\n",
              "      flex-wrap:wrap;\n",
              "      gap: 12px;\n",
              "    }\n",
              "\n",
              "    .colab-df-convert {\n",
              "      background-color: #E8F0FE;\n",
              "      border: none;\n",
              "      border-radius: 50%;\n",
              "      cursor: pointer;\n",
              "      display: none;\n",
              "      fill: #1967D2;\n",
              "      height: 32px;\n",
              "      padding: 0 0 0 0;\n",
              "      width: 32px;\n",
              "    }\n",
              "\n",
              "    .colab-df-convert:hover {\n",
              "      background-color: #E2EBFA;\n",
              "      box-shadow: 0px 1px 2px rgba(60, 64, 67, 0.3), 0px 1px 3px 1px rgba(60, 64, 67, 0.15);\n",
              "      fill: #174EA6;\n",
              "    }\n",
              "\n",
              "    [theme=dark] .colab-df-convert {\n",
              "      background-color: #3B4455;\n",
              "      fill: #D2E3FC;\n",
              "    }\n",
              "\n",
              "    [theme=dark] .colab-df-convert:hover {\n",
              "      background-color: #434B5C;\n",
              "      box-shadow: 0px 1px 3px 1px rgba(0, 0, 0, 0.15);\n",
              "      filter: drop-shadow(0px 1px 2px rgba(0, 0, 0, 0.3));\n",
              "      fill: #FFFFFF;\n",
              "    }\n",
              "  </style>\n",
              "\n",
              "      <script>\n",
              "        const buttonEl =\n",
              "          document.querySelector('#df-8e60d6e1-9870-4403-b5be-c271518f0ee8 button.colab-df-convert');\n",
              "        buttonEl.style.display =\n",
              "          google.colab.kernel.accessAllowed ? 'block' : 'none';\n",
              "\n",
              "        async function convertToInteractive(key) {\n",
              "          const element = document.querySelector('#df-8e60d6e1-9870-4403-b5be-c271518f0ee8');\n",
              "          const dataTable =\n",
              "            await google.colab.kernel.invokeFunction('convertToInteractive',\n",
              "                                                     [key], {});\n",
              "          if (!dataTable) return;\n",
              "\n",
              "          const docLinkHtml = 'Like what you see? Visit the ' +\n",
              "            '<a target=\"_blank\" href=https://colab.research.google.com/notebooks/data_table.ipynb>data table notebook</a>'\n",
              "            + ' to learn more about interactive tables.';\n",
              "          element.innerHTML = '';\n",
              "          dataTable['output_type'] = 'display_data';\n",
              "          await google.colab.output.renderOutput(dataTable, element);\n",
              "          const docLink = document.createElement('div');\n",
              "          docLink.innerHTML = docLinkHtml;\n",
              "          element.appendChild(docLink);\n",
              "        }\n",
              "      </script>\n",
              "    </div>\n",
              "  </div>\n",
              "  "
            ]
          },
          "metadata": {},
          "execution_count": 5
        }
      ],
      "source": [
        "df.head(10) # получение первых 10 строк таблицы df"
      ]
    },
    {
      "cell_type": "markdown",
      "metadata": {
        "deletable": false,
        "editable": false,
        "id": "EO73Kwic_Zct",
        "tags": [
          "start_task"
        ]
      },
      "source": [
        "**Задание 4**\n",
        "\n",
        "\n",
        "Одной командой получить общую информацию о таблице c помощью метода `info()`:"
      ]
    },
    {
      "cell_type": "code",
      "execution_count": 6,
      "metadata": {
        "deletable": false,
        "id": "DSf2kIb-_Zct",
        "colab": {
          "base_uri": "https://localhost:8080/"
        },
        "outputId": "41945269-329f-4705-b251-fcc6690039e3"
      },
      "outputs": [
        {
          "output_type": "stream",
          "name": "stdout",
          "text": [
            "<class 'pandas.core.frame.DataFrame'>\n",
            "RangeIndex: 65079 entries, 0 to 65078\n",
            "Data columns (total 7 columns):\n",
            " #   Column    Non-Null Count  Dtype \n",
            "---  ------    --------------  ----- \n",
            " 0     userID  65079 non-null  object\n",
            " 1   Track     63848 non-null  object\n",
            " 2   artist    57876 non-null  object\n",
            " 3   genre     63881 non-null  object\n",
            " 4     City    65079 non-null  object\n",
            " 5   time      65079 non-null  object\n",
            " 6   Day       65079 non-null  object\n",
            "dtypes: object(7)\n",
            "memory usage: 3.5+ MB\n"
          ]
        }
      ],
      "source": [
        "df.info() # получение общей информации о данных в таблице df"
      ]
    },
    {
      "cell_type": "markdown",
      "metadata": {
        "deletable": false,
        "editable": false,
        "id": "TaQ2Iwbr_Zct"
      },
      "source": [
        "Итак, в таблице семь столбцов. Тип данных во всех столбцах — `object`.\n",
        "\n",
        "Согласно документации к данным:\n",
        "* `userID` — идентификатор пользователя;\n",
        "* `Track` — название трека;  \n",
        "* `artist` — имя исполнителя;\n",
        "* `genre` — название жанра;\n",
        "* `City` — город пользователя;\n",
        "* `time` — время начала прослушивания;\n",
        "* `Day` — день недели.\n",
        "\n",
        "Количество значений в столбцах различается. Значит, в данных есть пропущенные значения."
      ]
    },
    {
      "cell_type": "markdown",
      "metadata": {
        "deletable": false,
        "editable": false,
        "id": "SjYF6Ub9_Zct"
      },
      "source": [
        "## Предобработка данных\n",
        "Исправьте стиль в заголовках столбцов, исключите пропуски. Затем проверьте данные на дубликаты."
      ]
    },
    {
      "cell_type": "markdown",
      "metadata": {
        "deletable": false,
        "editable": false,
        "id": "dIaKXr29_Zct",
        "tags": [
          "start_task"
        ]
      },
      "source": [
        "### Стиль заголовков\n",
        "\n",
        "**Задание 5**\n",
        "\n",
        "Выведите на экран названия столбцов:"
      ]
    },
    {
      "cell_type": "code",
      "execution_count": 7,
      "metadata": {
        "deletable": false,
        "id": "oKOTdF_Q_Zct",
        "colab": {
          "base_uri": "https://localhost:8080/"
        },
        "outputId": "28db901b-7823-4555-c08d-341b9bd3809d"
      },
      "outputs": [
        {
          "output_type": "stream",
          "name": "stdout",
          "text": [
            "Index(['  userID', 'Track', 'artist', 'genre', '  City  ', 'time', 'Day'], dtype='object')\n"
          ]
        }
      ],
      "source": [
        "print(df.columns) # перечень названий столбцов таблицы df"
      ]
    },
    {
      "cell_type": "markdown",
      "metadata": {
        "deletable": false,
        "editable": false,
        "id": "zj5534cv_Zct",
        "tags": [
          "start_task"
        ]
      },
      "source": [
        "**Задание 6**\n",
        "\n",
        "\n",
        "Приведите названия в соответствие с хорошим стилем:\n",
        "* несколько слов в названии запишите в «змеином_регистре»,\n",
        "* все символы сделайте строчными,\n",
        "* устраните пробелы."
      ]
    },
    {
      "cell_type": "code",
      "execution_count": 8,
      "metadata": {
        "deletable": false,
        "id": "ISlFqs5y_Zct"
      },
      "outputs": [],
      "source": [
        "df = df.rename(\n",
        "    columns = {\n",
        "        '  userID':'user_id',\n",
        "        'Track':'track',\n",
        "        '  City  ':'city',\n",
        "        'Day':'day'\n",
        "    }\n",
        ")# переименование столбцов"
      ]
    },
    {
      "cell_type": "markdown",
      "metadata": {
        "deletable": false,
        "editable": false,
        "id": "1dqbh00J_Zct",
        "tags": [
          "start_task"
        ]
      },
      "source": [
        "**Задание 7**\n",
        "\n",
        "\n",
        "Проверьте результат. Для этого ещё раз выведите на экран названия столбцов:"
      ]
    },
    {
      "cell_type": "code",
      "execution_count": 9,
      "metadata": {
        "deletable": false,
        "id": "d4NOAmTW_Zct",
        "colab": {
          "base_uri": "https://localhost:8080/"
        },
        "outputId": "953eca27-0777-41fc-cb82-8ccc125c6894"
      },
      "outputs": [
        {
          "output_type": "stream",
          "name": "stdout",
          "text": [
            "Index(['user_id', 'track', 'artist', 'genre', 'city', 'time', 'day'], dtype='object')\n"
          ]
        }
      ],
      "source": [
        "print(df.columns) # проверка результатов - перечень названий столбцов"
      ]
    },
    {
      "cell_type": "markdown",
      "metadata": {
        "deletable": false,
        "editable": false,
        "id": "5ISfbcfY_Zct",
        "tags": [
          "start_task"
        ]
      },
      "source": [
        "### Пропуски значений\n",
        "\n",
        "**Задание 8**\n",
        "\n",
        "Сначала посчитайте, сколько в таблице пропущенных значений. Для этого достаточно двух методов `pandas`:"
      ]
    },
    {
      "cell_type": "code",
      "execution_count": 10,
      "metadata": {
        "deletable": false,
        "id": "RskX29qr_Zct",
        "colab": {
          "base_uri": "https://localhost:8080/"
        },
        "outputId": "76a07737-3126-47b5-c439-aa753f027bbf"
      },
      "outputs": [
        {
          "output_type": "execute_result",
          "data": {
            "text/plain": [
              "user_id       0\n",
              "track      1231\n",
              "artist     7203\n",
              "genre      1198\n",
              "city          0\n",
              "time          0\n",
              "day           0\n",
              "dtype: int64"
            ]
          },
          "metadata": {},
          "execution_count": 10
        }
      ],
      "source": [
        "df.isna().sum() # подсчёт пропусков"
      ]
    },
    {
      "cell_type": "markdown",
      "metadata": {
        "deletable": false,
        "editable": false,
        "id": "fSv2laPA_Zct",
        "tags": [
          "start_task"
        ]
      },
      "source": [
        "**Задание 10**\n",
        "\n",
        "Замените пропущенные значения в столбцах `track`, `artist` и `genre` на строку `'unknown'`"
      ]
    },
    {
      "cell_type": "code",
      "execution_count": 11,
      "metadata": {
        "deletable": false,
        "id": "KplB5qWs_Zct"
      },
      "outputs": [],
      "source": [
        "columns_to_replace = ['track', 'artist' ,'genre']\n",
        "for column in columns_to_replace:\n",
        "    df[column] = df[column].fillna('unknown')\n",
        "     # перебор названий столбцов в цикле и замена пропущенных значений на 'unknown'"
      ]
    },
    {
      "cell_type": "markdown",
      "metadata": {
        "deletable": false,
        "editable": false,
        "id": "Ilsm-MZo_Zct",
        "tags": [
          "start_task"
        ]
      },
      "source": [
        "**Задание 11**\n",
        "\n",
        "Убедитесь, что в таблице не осталось пропусков"
      ]
    },
    {
      "cell_type": "code",
      "execution_count": 12,
      "metadata": {
        "deletable": false,
        "id": "Tq4nYRX4_Zct",
        "colab": {
          "base_uri": "https://localhost:8080/"
        },
        "outputId": "317931ba-8c5a-43bc-c5a0-a9a1646b70f7"
      },
      "outputs": [
        {
          "output_type": "execute_result",
          "data": {
            "text/plain": [
              "user_id    0\n",
              "track      0\n",
              "artist     0\n",
              "genre      0\n",
              "city       0\n",
              "time       0\n",
              "day        0\n",
              "dtype: int64"
            ]
          },
          "metadata": {},
          "execution_count": 12
        }
      ],
      "source": [
        "df.isna().sum() # подсчёт пропусков"
      ]
    },
    {
      "cell_type": "markdown",
      "metadata": {
        "deletable": false,
        "editable": false,
        "id": "BWKRtBJ3_Zct",
        "tags": [
          "start_task"
        ]
      },
      "source": [
        "### Дубликаты\n",
        "\n",
        "**Задание 12**\n",
        "\n",
        "Посчитайте явные дубликаты"
      ]
    },
    {
      "cell_type": "code",
      "execution_count": 13,
      "metadata": {
        "deletable": false,
        "id": "36eES_S0_Zct",
        "colab": {
          "base_uri": "https://localhost:8080/"
        },
        "outputId": "de7412b7-160b-4cda-f33a-d22b3c679687"
      },
      "outputs": [
        {
          "output_type": "execute_result",
          "data": {
            "text/plain": [
              "3826"
            ]
          },
          "metadata": {},
          "execution_count": 13
        }
      ],
      "source": [
        "df.duplicated().sum() # подсчёт явных дубликатов"
      ]
    },
    {
      "cell_type": "markdown",
      "metadata": {
        "deletable": false,
        "editable": false,
        "id": "Ot25h6XR_Zct",
        "tags": [
          "start_task"
        ]
      },
      "source": [
        "**Задание 13**\n",
        "\n",
        "Удалите явные дубликаты:"
      ]
    },
    {
      "cell_type": "code",
      "execution_count": 15,
      "metadata": {
        "deletable": false,
        "id": "exFHq6tt_Zct"
      },
      "outputs": [],
      "source": [
        "df = df.drop_duplicates().reset_index(drop = True) # удаление явных дубликатов"
      ]
    },
    {
      "cell_type": "markdown",
      "metadata": {
        "deletable": false,
        "editable": false,
        "id": "Im2YwBEG_Zct",
        "tags": [
          "start_task"
        ]
      },
      "source": [
        "**Задание 14**\n",
        "\n",
        "Ещё раз посчитайте явные дубликаты в таблице — убедитесь, что полностью от них избавились:"
      ]
    },
    {
      "cell_type": "code",
      "execution_count": 17,
      "metadata": {
        "deletable": false,
        "id": "-8PuNWQ0_Zct",
        "colab": {
          "base_uri": "https://localhost:8080/"
        },
        "outputId": "71320e4c-7b18-4ef9-92d8-b463970962e3"
      },
      "outputs": [
        {
          "output_type": "execute_result",
          "data": {
            "text/plain": [
              "0"
            ]
          },
          "metadata": {},
          "execution_count": 17
        }
      ],
      "source": [
        "df.duplicated().sum() # проверка на отсутствие дубликатов"
      ]
    },
    {
      "cell_type": "markdown",
      "metadata": {
        "deletable": false,
        "editable": false,
        "id": "QlFBsxAr_Zct"
      },
      "source": [
        "Теперь избавьтесь от неявных дубликатов в колонке `genre`. Например, название одного и того же жанра может быть записано немного по-разному. Такие ошибки тоже повлияют на результат исследования."
      ]
    },
    {
      "cell_type": "markdown",
      "metadata": {
        "deletable": false,
        "editable": false,
        "id": "eSjWwsOh_Zct",
        "tags": [
          "start_task"
        ]
      },
      "source": [
        "**Задание 15**\n",
        "\n",
        "Выведите на экран список уникальных названий жанров, отсортированный в алфавитном порядке. Для этого:\n",
        "1. извлеките нужный столбец датафрейма; \n",
        "2. примените к нему метод сортировки;\n",
        "3. для отсортированного столбца вызовите метод, который вернёт уникальные значения из столбца."
      ]
    },
    {
      "cell_type": "code",
      "execution_count": 18,
      "metadata": {
        "deletable": false,
        "id": "JIUcqzZN_Zct",
        "colab": {
          "base_uri": "https://localhost:8080/"
        },
        "outputId": "262037a4-f71d-46b5-f59d-83e3250fe95d"
      },
      "outputs": [
        {
          "output_type": "execute_result",
          "data": {
            "text/plain": [
              "array(['acid', 'acoustic', 'action', 'adult', 'africa', 'afrikaans',\n",
              "       'alternative', 'alternativepunk', 'ambient', 'americana',\n",
              "       'animated', 'anime', 'arabesk', 'arabic', 'arena',\n",
              "       'argentinetango', 'art', 'audiobook', 'author', 'avantgarde',\n",
              "       'axé', 'baile', 'balkan', 'beats', 'bigroom', 'black', 'bluegrass',\n",
              "       'blues', 'bollywood', 'bossa', 'brazilian', 'breakbeat', 'breaks',\n",
              "       'broadway', 'cantautori', 'cantopop', 'canzone', 'caribbean',\n",
              "       'caucasian', 'celtic', 'chamber', 'chanson', 'children', 'chill',\n",
              "       'chinese', 'choral', 'christian', 'christmas', 'classical',\n",
              "       'classicmetal', 'club', 'colombian', 'comedy', 'conjazz',\n",
              "       'contemporary', 'country', 'cuban', 'dance', 'dancehall',\n",
              "       'dancepop', 'dark', 'death', 'deep', 'deutschrock', 'deutschspr',\n",
              "       'dirty', 'disco', 'dnb', 'documentary', 'downbeat', 'downtempo',\n",
              "       'drum', 'dub', 'dubstep', 'eastern', 'easy', 'electronic',\n",
              "       'electropop', 'emo', 'entehno', 'epicmetal', 'estrada', 'ethnic',\n",
              "       'eurofolk', 'european', 'experimental', 'extrememetal', 'fado',\n",
              "       'fairytail', 'film', 'fitness', 'flamenco', 'folk', 'folklore',\n",
              "       'folkmetal', 'folkrock', 'folktronica', 'forró', 'frankreich',\n",
              "       'französisch', 'french', 'funk', 'future', 'gangsta', 'garage',\n",
              "       'german', 'ghazal', 'gitarre', 'glitch', 'gospel', 'gothic',\n",
              "       'grime', 'grunge', 'gypsy', 'handsup', \"hard'n'heavy\", 'hardcore',\n",
              "       'hardstyle', 'hardtechno', 'hip', 'hip-hop', 'hiphop',\n",
              "       'historisch', 'holiday', 'hop', 'horror', 'house', 'hymn', 'idm',\n",
              "       'independent', 'indian', 'indie', 'indipop', 'industrial',\n",
              "       'inspirational', 'instrumental', 'international', 'irish', 'jam',\n",
              "       'japanese', 'jazz', 'jewish', 'jpop', 'jungle', 'k-pop',\n",
              "       'karadeniz', 'karaoke', 'kayokyoku', 'korean', 'laiko', 'latin',\n",
              "       'latino', 'leftfield', 'local', 'lounge', 'loungeelectronic',\n",
              "       'lovers', 'malaysian', 'mandopop', 'marschmusik', 'meditative',\n",
              "       'mediterranean', 'melodic', 'metal', 'metalcore', 'mexican',\n",
              "       'middle', 'minimal', 'miscellaneous', 'modern', 'mood', 'mpb',\n",
              "       'muslim', 'native', 'neoklassik', 'neue', 'new', 'newage',\n",
              "       'newwave', 'nu', 'nujazz', 'numetal', 'oceania', 'old', 'opera',\n",
              "       'orchestral', 'other', 'piano', 'podcasts', 'pop', 'popdance',\n",
              "       'popelectronic', 'popeurodance', 'poprussian', 'post',\n",
              "       'posthardcore', 'postrock', 'power', 'progmetal', 'progressive',\n",
              "       'psychedelic', 'punjabi', 'punk', 'quebecois', 'ragga', 'ram',\n",
              "       'rancheras', 'rap', 'rave', 'reggae', 'reggaeton', 'regional',\n",
              "       'relax', 'religious', 'retro', 'rhythm', 'rnb', 'rnr', 'rock',\n",
              "       'rockabilly', 'rockalternative', 'rockindie', 'rockother',\n",
              "       'romance', 'roots', 'ruspop', 'rusrap', 'rusrock', 'russian',\n",
              "       'salsa', 'samba', 'scenic', 'schlager', 'self', 'sertanejo',\n",
              "       'shanson', 'shoegazing', 'showtunes', 'singer', 'ska', 'skarock',\n",
              "       'slow', 'smooth', 'soft', 'soul', 'soulful', 'sound', 'soundtrack',\n",
              "       'southern', 'specialty', 'speech', 'spiritual', 'sport',\n",
              "       'stonerrock', 'surf', 'swing', 'synthpop', 'synthrock',\n",
              "       'sängerportrait', 'tango', 'tanzorchester', 'taraftar', 'tatar',\n",
              "       'tech', 'techno', 'teen', 'thrash', 'top', 'traditional',\n",
              "       'tradjazz', 'trance', 'tribal', 'trip', 'triphop', 'tropical',\n",
              "       'türk', 'türkçe', 'ukrrock', 'unknown', 'urban', 'uzbek',\n",
              "       'variété', 'vi', 'videogame', 'vocal', 'western', 'world',\n",
              "       'worldbeat', 'ïîï', 'электроника'], dtype=object)"
            ]
          },
          "metadata": {},
          "execution_count": 18
        }
      ],
      "source": [
        "df['genre'].sort_values().unique()\n",
        "\n",
        " # Просмотр уникальных названий жанров"
      ]
    },
    {
      "cell_type": "markdown",
      "metadata": {
        "deletable": false,
        "editable": false,
        "id": "qej-Qmuo_Zct",
        "tags": [
          "start_task"
        ]
      },
      "source": [
        "**Задание 16**\n",
        "\n",
        "Просмотрите список и найдите неявные дубликаты названия `hiphop`. Это могут быть названия с ошибками или альтернативные названия того же жанра.\n",
        "\n",
        "Вы увидите следующие неявные дубликаты:\n",
        "* *hip*,\n",
        "* *hop*,\n",
        "* *hip-hop*.\n"
      ]
    },
    {
      "cell_type": "code",
      "execution_count": 19,
      "metadata": {
        "deletable": false,
        "id": "ErNDkmns_Zct"
      },
      "outputs": [],
      "source": [
        "duplicates = ['hip', 'hop', 'hip-hop']\n",
        "df['genre'] = df['genre'].replace(duplicates, 'hiphop') # Устранение неявных дубликатов"
      ]
    },
    {
      "cell_type": "markdown",
      "metadata": {
        "deletable": false,
        "editable": false,
        "id": "zQKF16_RG15m",
        "tags": [
          "start_task"
        ]
      },
      "source": [
        "**Задание 17**\n",
        "\n",
        "Проверьте, что заменили неправильные названия:\n",
        "\n",
        "*   hip,\n",
        "*   hop,\n",
        "*   hip-hop.\n",
        "\n",
        "Выведите отсортированный список уникальных значений столбца `genre`:"
      ]
    },
    {
      "cell_type": "code",
      "execution_count": 20,
      "metadata": {
        "deletable": false,
        "id": "wvixALnFG15m",
        "colab": {
          "base_uri": "https://localhost:8080/"
        },
        "outputId": "464970b2-f571-40a1-b8fb-e1c55653248c"
      },
      "outputs": [
        {
          "output_type": "execute_result",
          "data": {
            "text/plain": [
              "array(['acid', 'acoustic', 'action', 'adult', 'africa', 'afrikaans',\n",
              "       'alternative', 'alternativepunk', 'ambient', 'americana',\n",
              "       'animated', 'anime', 'arabesk', 'arabic', 'arena',\n",
              "       'argentinetango', 'art', 'audiobook', 'author', 'avantgarde',\n",
              "       'axé', 'baile', 'balkan', 'beats', 'bigroom', 'black', 'bluegrass',\n",
              "       'blues', 'bollywood', 'bossa', 'brazilian', 'breakbeat', 'breaks',\n",
              "       'broadway', 'cantautori', 'cantopop', 'canzone', 'caribbean',\n",
              "       'caucasian', 'celtic', 'chamber', 'chanson', 'children', 'chill',\n",
              "       'chinese', 'choral', 'christian', 'christmas', 'classical',\n",
              "       'classicmetal', 'club', 'colombian', 'comedy', 'conjazz',\n",
              "       'contemporary', 'country', 'cuban', 'dance', 'dancehall',\n",
              "       'dancepop', 'dark', 'death', 'deep', 'deutschrock', 'deutschspr',\n",
              "       'dirty', 'disco', 'dnb', 'documentary', 'downbeat', 'downtempo',\n",
              "       'drum', 'dub', 'dubstep', 'eastern', 'easy', 'electronic',\n",
              "       'electropop', 'emo', 'entehno', 'epicmetal', 'estrada', 'ethnic',\n",
              "       'eurofolk', 'european', 'experimental', 'extrememetal', 'fado',\n",
              "       'fairytail', 'film', 'fitness', 'flamenco', 'folk', 'folklore',\n",
              "       'folkmetal', 'folkrock', 'folktronica', 'forró', 'frankreich',\n",
              "       'französisch', 'french', 'funk', 'future', 'gangsta', 'garage',\n",
              "       'german', 'ghazal', 'gitarre', 'glitch', 'gospel', 'gothic',\n",
              "       'grime', 'grunge', 'gypsy', 'handsup', \"hard'n'heavy\", 'hardcore',\n",
              "       'hardstyle', 'hardtechno', 'hiphop', 'historisch', 'holiday',\n",
              "       'horror', 'house', 'hymn', 'idm', 'independent', 'indian', 'indie',\n",
              "       'indipop', 'industrial', 'inspirational', 'instrumental',\n",
              "       'international', 'irish', 'jam', 'japanese', 'jazz', 'jewish',\n",
              "       'jpop', 'jungle', 'k-pop', 'karadeniz', 'karaoke', 'kayokyoku',\n",
              "       'korean', 'laiko', 'latin', 'latino', 'leftfield', 'local',\n",
              "       'lounge', 'loungeelectronic', 'lovers', 'malaysian', 'mandopop',\n",
              "       'marschmusik', 'meditative', 'mediterranean', 'melodic', 'metal',\n",
              "       'metalcore', 'mexican', 'middle', 'minimal', 'miscellaneous',\n",
              "       'modern', 'mood', 'mpb', 'muslim', 'native', 'neoklassik', 'neue',\n",
              "       'new', 'newage', 'newwave', 'nu', 'nujazz', 'numetal', 'oceania',\n",
              "       'old', 'opera', 'orchestral', 'other', 'piano', 'podcasts', 'pop',\n",
              "       'popdance', 'popelectronic', 'popeurodance', 'poprussian', 'post',\n",
              "       'posthardcore', 'postrock', 'power', 'progmetal', 'progressive',\n",
              "       'psychedelic', 'punjabi', 'punk', 'quebecois', 'ragga', 'ram',\n",
              "       'rancheras', 'rap', 'rave', 'reggae', 'reggaeton', 'regional',\n",
              "       'relax', 'religious', 'retro', 'rhythm', 'rnb', 'rnr', 'rock',\n",
              "       'rockabilly', 'rockalternative', 'rockindie', 'rockother',\n",
              "       'romance', 'roots', 'ruspop', 'rusrap', 'rusrock', 'russian',\n",
              "       'salsa', 'samba', 'scenic', 'schlager', 'self', 'sertanejo',\n",
              "       'shanson', 'shoegazing', 'showtunes', 'singer', 'ska', 'skarock',\n",
              "       'slow', 'smooth', 'soft', 'soul', 'soulful', 'sound', 'soundtrack',\n",
              "       'southern', 'specialty', 'speech', 'spiritual', 'sport',\n",
              "       'stonerrock', 'surf', 'swing', 'synthpop', 'synthrock',\n",
              "       'sängerportrait', 'tango', 'tanzorchester', 'taraftar', 'tatar',\n",
              "       'tech', 'techno', 'teen', 'thrash', 'top', 'traditional',\n",
              "       'tradjazz', 'trance', 'tribal', 'trip', 'triphop', 'tropical',\n",
              "       'türk', 'türkçe', 'ukrrock', 'unknown', 'urban', 'uzbek',\n",
              "       'variété', 'vi', 'videogame', 'vocal', 'western', 'world',\n",
              "       'worldbeat', 'ïîï', 'электроника'], dtype=object)"
            ]
          },
          "metadata": {},
          "execution_count": 20
        }
      ],
      "source": [
        "df['genre'].sort_values().unique()# Проверка на неявные дубликаты"
      ]
    },
    {
      "cell_type": "markdown",
      "metadata": {
        "deletable": false,
        "editable": false,
        "id": "jz6a9-7HQUDd"
      },
      "source": [
        "**Выводы**\n",
        "\n",
        "Предобработка обнаружила три проблемы в данных:\n",
        "\n",
        "- нарушения в стиле заголовков,\n",
        "- пропущенные значения,\n",
        "- дубликаты — явные и неявные.\n",
        "\n",
        "Вы исправили заголовки, чтобы упростить работу с таблицей. Без дубликатов исследование станет более точным.\n",
        "\n",
        "Пропущенные значения вы заменили на `'unknown'`. Ещё предстоит увидеть, не повредят ли исследованию пропуски в колонке `genre`.\n",
        "\n",
        "Теперь можно перейти к проверке гипотез. "
      ]
    },
    {
      "cell_type": "markdown",
      "metadata": {
        "deletable": false,
        "editable": false,
        "id": "WttZHXH0SqKk"
      },
      "source": [
        "## Проверка гипотез"
      ]
    },
    {
      "cell_type": "markdown",
      "metadata": {
        "deletable": false,
        "editable": false,
        "id": "Im936VVi_Zcu"
      },
      "source": [
        "### Сравнение поведения пользователей двух столиц"
      ]
    },
    {
      "cell_type": "markdown",
      "metadata": {
        "deletable": false,
        "editable": false,
        "id": "nwt_MuaL_Zcu"
      },
      "source": [
        "Первая гипотеза утверждает, что пользователи по-разному слушают музыку в Москве и Санкт-Петербурге. Проверьте это предположение по данным о трёх днях недели — понедельнике, среде и пятнице. Для этого:\n",
        "\n",
        "* Разделите пользователей Москвы и Санкт-Петербурга.\n",
        "* Сравните, сколько треков послушала каждая группа пользователей в понедельник, среду и пятницу.\n"
      ]
    },
    {
      "cell_type": "markdown",
      "metadata": {
        "deletable": false,
        "editable": false,
        "id": "8Dw_YMmT_Zcu",
        "tags": [
          "start_task"
        ]
      },
      "source": [
        "**Задание 18**\n",
        "\n",
        "Для тренировки сначала выполните каждый из расчётов по отдельности. \n",
        "\n",
        "Оцените активность пользователей в каждом городе. Сгруппируйте данные по городу и посчитайте прослушивания в каждой группе.\n",
        "\n"
      ]
    },
    {
      "cell_type": "code",
      "execution_count": 21,
      "metadata": {
        "deletable": false,
        "id": "0_Qs96oh_Zcu",
        "colab": {
          "base_uri": "https://localhost:8080/"
        },
        "outputId": "dd819146-4145-4de8-da01-0c606eac620a"
      },
      "outputs": [
        {
          "output_type": "execute_result",
          "data": {
            "text/plain": [
              "city\n",
              "Moscow              42741\n",
              "Saint-Petersburg    18512\n",
              "Name: user_id, dtype: int64"
            ]
          },
          "metadata": {},
          "execution_count": 21
        }
      ],
      "source": [
        "df.groupby('city')['user_id'].count() # Подсчёт прослушиваний в каждом городе"
      ]
    },
    {
      "cell_type": "markdown",
      "metadata": {
        "deletable": false,
        "editable": false,
        "id": "dzli3w8o_Zcu",
        "tags": [
          "start_task"
        ]
      },
      "source": [
        "В Москве прослушиваний больше, чем в Петербурге. Из этого не следует, что московские пользователи чаще слушают музыку. Просто самих пользователей в Москве больше.\n",
        "\n",
        "**Задание 19**\n",
        "\n",
        "Теперь сгруппируйте данные по дню недели и посчитайте прослушивания в понедельник, среду и пятницу. Учтите, что в данных есть информация о прослушиваниях только за эти дни.\n"
      ]
    },
    {
      "cell_type": "code",
      "execution_count": 22,
      "metadata": {
        "deletable": false,
        "id": "uZMKjiJz_Zcu",
        "colab": {
          "base_uri": "https://localhost:8080/"
        },
        "outputId": "c88129f0-7eb8-4747-b582-08f0f6be40d1"
      },
      "outputs": [
        {
          "output_type": "execute_result",
          "data": {
            "text/plain": [
              "day\n",
              "Friday       21840\n",
              "Monday       21354\n",
              "Wednesday    18059\n",
              "Name: user_id, dtype: int64"
            ]
          },
          "metadata": {},
          "execution_count": 22
        }
      ],
      "source": [
        "df.groupby('day')['user_id'].count() # Подсчёт прослушиваний в каждый из трёх дней"
      ]
    },
    {
      "cell_type": "markdown",
      "metadata": {
        "deletable": false,
        "editable": false,
        "id": "cC2tNrlL_Zcu"
      },
      "source": [
        "В среднем пользователи из двух городов менее активны по средам. Но картина может измениться, если рассмотреть каждый город в отдельности."
      ]
    },
    {
      "cell_type": "markdown",
      "metadata": {
        "deletable": false,
        "editable": false,
        "id": "POzs8bGa_Zcu",
        "tags": [
          "start_task"
        ]
      },
      "source": [
        "**Задание 20**\n",
        "\n",
        "\n",
        "Вы видели, как работает группировка по городу и по дням недели. Теперь напишите функцию, которая объединит два эти расчёта.\n",
        "\n",
        "Создайте функцию `number_tracks()`, которая посчитает прослушивания для заданного дня и города. Ей понадобятся два параметра:\n",
        "* день недели,\n",
        "* название города.\n",
        "\n",
        "В функции сохраните в переменную строки исходной таблицы, у которых значение:\n",
        "  * в колонке `day` равно параметру `day`,\n",
        "  * в колонке `city` равно параметру `city`.\n",
        "\n",
        "Для этого примените последовательную фильтрацию с логической индексацией (или сложные логические выражения в одну строку, если вы уже знакомы с ними).\n",
        "\n",
        "Затем посчитайте значения в столбце `user_id` получившейся таблицы. Результат сохраните в новую переменную. Верните эту переменную из функции."
      ]
    },
    {
      "cell_type": "code",
      "execution_count": 23,
      "metadata": {
        "deletable": false,
        "id": "Nz3GdQB1_Zcu"
      },
      "outputs": [],
      "source": [
        "\n",
        "# <создание функции number_tracks()>\n",
        "def number_tracks(day, city):# Объявляется функция с двумя параметрами: day, city.\n",
        "    track_list = df[df['day']==day]\n",
        "    track_list = track_list[track_list['city']==city]\n",
        "    track_list_count = track_list['user_id'].count()\n",
        "    return track_list_count \n",
        "# В переменной track_list сохраняются те строки таблицы df, для которых \n",
        "# значение в столбце 'day' равно параметру day и одновременно значение\n",
        "# в столбце 'city' равно параметру city (используйте последовательную фильтрацию\n",
        "# с помощью логической индексации или сложные логические выражения в одну строку, если вы уже знакомы с ними).\n",
        "# В переменной track_list_count сохраняется число значений столбца 'user_id',\n",
        "# рассчитанное методом count() для таблицы track_list.\n",
        "# Функция возвращает число - значение track_list_count.\n",
        "\n",
        "# Функция для подсчёта прослушиваний для конкретного города и дня.\n",
        "# С помощью последовательной фильтрации с логической индексацией она \n",
        "# сначала получит из исходной таблицы строки с нужным днём,\n",
        "# затем из результата отфильтрует строки с нужным городом,\n",
        "# методом count() посчитает количество значений в колонке user_id. \n",
        "# Это количество функция вернёт в качестве результата"
      ]
    },
    {
      "cell_type": "markdown",
      "metadata": {
        "deletable": false,
        "editable": false,
        "id": "ytf7xFrFJQ2r",
        "tags": [
          "start_task"
        ]
      },
      "source": [
        "**Задание 21**\n",
        "\n",
        "Вызовите `number_tracks()` шесть раз, меняя значение параметров — так, чтобы получить данные для каждого города в каждый из трёх дней."
      ]
    },
    {
      "cell_type": "code",
      "execution_count": 24,
      "metadata": {
        "deletable": false,
        "id": "rJcRATNQ_Zcu",
        "colab": {
          "base_uri": "https://localhost:8080/"
        },
        "outputId": "06458c1e-4b94-4813-d5ec-0ac6d6e0d7bb"
      },
      "outputs": [
        {
          "output_type": "execute_result",
          "data": {
            "text/plain": [
              "15740"
            ]
          },
          "metadata": {},
          "execution_count": 24
        }
      ],
      "source": [
        "number_tracks('Monday', 'Moscow')# количество прослушиваний в Москве по понедельникам"
      ]
    },
    {
      "cell_type": "code",
      "execution_count": 25,
      "metadata": {
        "deletable": false,
        "id": "hq_ncZ5T_Zcu",
        "colab": {
          "base_uri": "https://localhost:8080/"
        },
        "outputId": "8752759d-aaa4-46b8-ef0d-59e2fe0b37e0"
      },
      "outputs": [
        {
          "output_type": "execute_result",
          "data": {
            "text/plain": [
              "5614"
            ]
          },
          "metadata": {},
          "execution_count": 25
        }
      ],
      "source": [
        "number_tracks('Monday', 'Saint-Petersburg')# количество прослушиваний в Санкт-Петербурге по понедельникам"
      ]
    },
    {
      "cell_type": "code",
      "execution_count": 26,
      "metadata": {
        "deletable": false,
        "id": "_NTy2VPU_Zcu",
        "colab": {
          "base_uri": "https://localhost:8080/"
        },
        "outputId": "c706529b-d500-499d-b6d4-b763eccd75ac"
      },
      "outputs": [
        {
          "output_type": "execute_result",
          "data": {
            "text/plain": [
              "11056"
            ]
          },
          "metadata": {},
          "execution_count": 26
        }
      ],
      "source": [
        "number_tracks('Wednesday', 'Moscow')# количество прослушиваний в Москве по средам"
      ]
    },
    {
      "cell_type": "code",
      "execution_count": 27,
      "metadata": {
        "deletable": false,
        "id": "j2y3TAwo_Zcu",
        "colab": {
          "base_uri": "https://localhost:8080/"
        },
        "outputId": "71142a99-c768-4e3c-e7a0-0762ba7d2239"
      },
      "outputs": [
        {
          "output_type": "execute_result",
          "data": {
            "text/plain": [
              "7003"
            ]
          },
          "metadata": {},
          "execution_count": 27
        }
      ],
      "source": [
        "number_tracks('Wednesday', 'Saint-Petersburg')# количество прослушиваний в Санкт-Петербурге по средам"
      ]
    },
    {
      "cell_type": "code",
      "execution_count": 28,
      "metadata": {
        "deletable": false,
        "id": "vYDw5u_K_Zcu",
        "colab": {
          "base_uri": "https://localhost:8080/"
        },
        "outputId": "ef74a3bd-327d-4483-a8aa-c6f5aee429c6"
      },
      "outputs": [
        {
          "output_type": "execute_result",
          "data": {
            "text/plain": [
              "15945"
            ]
          },
          "metadata": {},
          "execution_count": 28
        }
      ],
      "source": [
        "number_tracks('Friday', 'Moscow')# количество прослушиваний в Москве по пятницам"
      ]
    },
    {
      "cell_type": "code",
      "execution_count": 29,
      "metadata": {
        "deletable": false,
        "id": "8_yzFtW3_Zcu",
        "colab": {
          "base_uri": "https://localhost:8080/"
        },
        "outputId": "1affacfb-db91-40bb-8c9e-a2f6d1ceeb30"
      },
      "outputs": [
        {
          "output_type": "execute_result",
          "data": {
            "text/plain": [
              "5895"
            ]
          },
          "metadata": {},
          "execution_count": 29
        }
      ],
      "source": [
        "number_tracks('Friday', 'Saint-Petersburg')# количество прослушиваний в Санкт-Петербурге по пятницам"
      ]
    },
    {
      "cell_type": "markdown",
      "metadata": {
        "deletable": false,
        "editable": false,
        "id": "7QXffbO-_Zcu",
        "tags": [
          "start_task"
        ]
      },
      "source": [
        "**Задание 22**\n",
        "\n",
        "Создайте c помощью конструктора `pd.DataFrame` таблицу, где\n",
        "* названия колонок — `['city', 'monday', 'wednesday', 'friday']`;\n",
        "* данные — результаты, которые вы получили с помощью `number_tracks`."
      ]
    },
    {
      "cell_type": "code",
      "execution_count": 30,
      "metadata": {
        "deletable": false,
        "id": "APAcLpOr_Zcu"
      },
      "outputs": [],
      "source": [
        "info = pd.DataFrame(data = [['Москва', 15740, 11056, 15945],['Санкт-Петербург', 5614, 7003, 5895]], columns = ['city','monday','wednesday','friday']) # Таблица с результатами"
      ]
    },
    {
      "cell_type": "markdown",
      "metadata": {
        "deletable": false,
        "editable": false,
        "id": "-EgPIHYu_Zcu"
      },
      "source": [
        "**Выводы**\n",
        "\n",
        "Данные показывают разницу поведения пользователей:\n",
        "\n",
        "- В Москве пик прослушиваний приходится на понедельник и пятницу, а в среду заметен спад.\n",
        "- В Петербурге, наоборот, больше слушают музыку по средам. Активность в понедельник и пятницу здесь почти в равной мере уступает среде.\n",
        "\n",
        "Значит, данные говорят в пользу первой гипотезы."
      ]
    },
    {
      "cell_type": "markdown",
      "metadata": {
        "deletable": false,
        "editable": false,
        "id": "atZAxtq4_Zcu"
      },
      "source": [
        "### Музыка в начале и в конце недели"
      ]
    },
    {
      "cell_type": "markdown",
      "metadata": {
        "deletable": false,
        "editable": false,
        "id": "eXrQqXFH_Zcu"
      },
      "source": [
        "Согласно второй гипотезе, утром в понедельник в Москве преобладают одни жанры, а в Петербурге — другие. Так же и вечером пятницы преобладают разные жанры — в зависимости от города."
      ]
    },
    {
      "cell_type": "markdown",
      "metadata": {
        "deletable": false,
        "editable": false,
        "id": "S8UcW6Hw_Zcu",
        "tags": [
          "start_task"
        ]
      },
      "source": [
        "**Задание 23**\n",
        "\n",
        "Сохраните таблицы с данными в две переменные:\n",
        "* по Москве — в `moscow_general`;\n",
        "* по Санкт-Петербургу — в `spb_general`."
      ]
    },
    {
      "cell_type": "code",
      "execution_count": 31,
      "metadata": {
        "deletable": false,
        "id": "qeaFfM_P_Zcu"
      },
      "outputs": [],
      "source": [
        "moscow_general = df[df['city']=='Moscow'] # получение таблицы moscow_general из тех строк таблицы df, \n",
        "# для которых значение в столбце 'city' равно 'Moscow'\n"
      ]
    },
    {
      "cell_type": "code",
      "execution_count": 32,
      "metadata": {
        "deletable": false,
        "id": "ORaVRKto_Zcu"
      },
      "outputs": [],
      "source": [
        "spb_general = df[df['city'] == 'Saint-Petersburg'] # получение таблицы spb_general из тех строк таблицы df,\n",
        "# для которых значение в столбце 'city' равно 'Saint-Petersburg'\n"
      ]
    },
    {
      "cell_type": "markdown",
      "metadata": {
        "deletable": false,
        "id": "MEJV-CX2_Zcu",
        "tags": [
          "start_task"
        ]
      },
      "source": [
        "**Задание 24**\n",
        "\n",
        "Создайте функцию `genre_weekday()` с четырьмя параметрами:\n",
        "* таблица (датафрейм) с данными,\n",
        "* день недели,\n",
        "* начальная временная метка в формате 'hh:mm', \n",
        "* последняя временная метка в формате 'hh:mm'.\n",
        "\n",
        "Функция должна вернуть информацию о топ-10 жанров тех треков, которые прослушивали в указанный день, в промежутке между двумя отметками времени."
      ]
    },
    {
      "cell_type": "code",
      "execution_count": 33,
      "metadata": {
        "deletable": false,
        "id": "laJT9BYl_Zcu"
      },
      "outputs": [],
      "source": [
        "# Объявление функции genre_weekday() с параметрами table, day, time1, time2,\n",
        "# которая возвращает информацию о самых популярных жанрах в указанный день в\n",
        "# заданное время:\n",
        "# 1) в переменную genre_df сохраняются те строки переданного датафрейма table, для\n",
        "#    которых одновременно:\n",
        "#    - значение в столбце day равно значению аргумента day\n",
        "#    - значение в столбце time больше значения аргумента time1\n",
        "#    - значение в столбце time меньше значения аргумента time2\n",
        "#    Используйте последовательную фильтрацию с помощью логической индексации.\n",
        "# 2) сгруппировать датафрейм genre_df по столбцу genre, взять один из его\n",
        "#    столбцов и посчитать методом count() количество записей для каждого из\n",
        "#    присутствующих жанров, получившийся Series записать в переменную\n",
        "#    genre_df_count\n",
        "# 3) отсортировать genre_df_count по убыванию встречаемости и сохранить\n",
        "#    в переменную genre_df_sorted\n",
        "# 4) вернуть Series из 10 первых значений genre_df_sorted, это будут топ-10\n",
        "#    популярных жанров (в указанный день, в заданное время)\n",
        "\n",
        "def genre_weekday(df, day, time1, time2):\n",
        "    # последовательная фильтрация\n",
        "    # оставляем в genre_df только те строки df, у которых день равен day\n",
        "    genre_df = df[df['day'] == day] # ваш код здесь\n",
        "    # оставляем в genre_df только те строки genre_df, у которых время меньше time2\n",
        "    genre_df = genre_df[genre_df['time'] < time2]# ваш код здесь\n",
        "    # оставляем в genre_df только те строки genre_df, у которых время больше time1\n",
        "    genre_df = genre_df[genre_df['time'] > time1]# ваш код здесь\n",
        "    # сгруппируем отфильтрованный датафрейм по столбцу с названиями жанров, возьмём столбец genre и посчитаем кол-во строк для каждого жанра методом count()\n",
        "    genre_df_grouped = genre_df.groupby('genre')['genre'].count() # ваш код здесь\n",
        "    # отсортируем результат по убыванию (чтобы в начале Series оказались самые популярные жанры)\n",
        "    genre_df_sorted = genre_df_grouped.sort_values(ascending = False)# ваш код здесь\n",
        "    # вернём Series с 10 самыми популярными жанрами в указанный отрезок времени заданного дня\n",
        "    return genre_df_sorted[:10]"
      ]
    },
    {
      "cell_type": "markdown",
      "metadata": {
        "deletable": false,
        "editable": false,
        "id": "la2s2_PF_Zcu",
        "tags": [
          "start_task"
        ]
      },
      "source": [
        "**Задание 25**\n",
        "\n",
        "\n",
        "Cравните результаты функции `genre_weekday()` для Москвы и Санкт-Петербурга в понедельник утром (с 7:00 до 11:00) и в пятницу вечером (с 17:00 до 23:00):"
      ]
    },
    {
      "cell_type": "code",
      "execution_count": 34,
      "metadata": {
        "deletable": false,
        "id": "yz7itPUQ_Zcu",
        "colab": {
          "base_uri": "https://localhost:8080/"
        },
        "outputId": "b4a151e5-bba5-48c8-f471-e84405e55a25"
      },
      "outputs": [
        {
          "output_type": "execute_result",
          "data": {
            "text/plain": [
              "genre\n",
              "pop            781\n",
              "dance          549\n",
              "electronic     480\n",
              "rock           474\n",
              "hiphop         286\n",
              "ruspop         186\n",
              "world          181\n",
              "rusrap         175\n",
              "alternative    164\n",
              "unknown        161\n",
              "Name: genre, dtype: int64"
            ]
          },
          "metadata": {},
          "execution_count": 34
        }
      ],
      "source": [
        "genre_weekday(moscow_general, 'Monday', '07:00', '11:00')\n",
        "# вызов функции для утра понедельника в Москве (вместо df — таблица moscow_general)\n",
        "# объекты, хранящие время, являются строками и сравниваются как строки\n",
        "# пример вызова: genre_weekday(moscow_general, 'Monday', '07:00', '11:00')"
      ]
    },
    {
      "cell_type": "code",
      "execution_count": 35,
      "metadata": {
        "deletable": false,
        "id": "kwUcHPdy_Zcu",
        "colab": {
          "base_uri": "https://localhost:8080/"
        },
        "outputId": "94944081-99f9-4ba4-9564-1e8407fb7210"
      },
      "outputs": [
        {
          "output_type": "execute_result",
          "data": {
            "text/plain": [
              "genre\n",
              "pop            218\n",
              "dance          182\n",
              "rock           162\n",
              "electronic     147\n",
              "hiphop          80\n",
              "ruspop          64\n",
              "alternative     58\n",
              "rusrap          55\n",
              "jazz            44\n",
              "classical       40\n",
              "Name: genre, dtype: int64"
            ]
          },
          "metadata": {},
          "execution_count": 35
        }
      ],
      "source": [
        "genre_weekday(spb_general, 'Monday', '07:00', '11:00')\n",
        "# вызов функции для утра понедельника в Петербурге (вместо df — таблица spb_general)"
      ]
    },
    {
      "cell_type": "code",
      "execution_count": 36,
      "metadata": {
        "deletable": false,
        "id": "EzXVRE1o_Zcu",
        "colab": {
          "base_uri": "https://localhost:8080/"
        },
        "outputId": "f73d6a90-8220-4dce-b6c2-77b72a5cf755"
      },
      "outputs": [
        {
          "output_type": "execute_result",
          "data": {
            "text/plain": [
              "genre\n",
              "pop            713\n",
              "rock           517\n",
              "dance          495\n",
              "electronic     482\n",
              "hiphop         273\n",
              "world          208\n",
              "ruspop         170\n",
              "alternative    163\n",
              "classical      163\n",
              "rusrap         142\n",
              "Name: genre, dtype: int64"
            ]
          },
          "metadata": {},
          "execution_count": 36
        }
      ],
      "source": [
        "genre_weekday(moscow_general, 'Friday', '17:00', '23:00')\n",
        "# вызов функции для вечера пятницы в Москве"
      ]
    },
    {
      "cell_type": "code",
      "execution_count": 37,
      "metadata": {
        "deletable": false,
        "id": "JZaEKu5v_Zcu",
        "colab": {
          "base_uri": "https://localhost:8080/"
        },
        "outputId": "4f84945f-8100-4ea8-8a89-db0cfa5939da"
      },
      "outputs": [
        {
          "output_type": "execute_result",
          "data": {
            "text/plain": [
              "genre\n",
              "pop            256\n",
              "electronic     216\n",
              "rock           216\n",
              "dance          210\n",
              "hiphop          97\n",
              "alternative     63\n",
              "jazz            61\n",
              "classical       60\n",
              "rusrap          59\n",
              "world           54\n",
              "Name: genre, dtype: int64"
            ]
          },
          "metadata": {},
          "execution_count": 37
        }
      ],
      "source": [
        "genre_weekday(spb_general, 'Friday', '17:00', '23:00')\n",
        "# вызов функции для вечера пятницы в Петербурге"
      ]
    },
    {
      "cell_type": "markdown",
      "metadata": {
        "deletable": false,
        "editable": false,
        "id": "wrCe4MNX_Zcu"
      },
      "source": [
        "**Выводы**\n",
        "\n",
        "Если сравнить топ-10 жанров в понедельник утром, можно сделать такие выводы:\n",
        "\n",
        "1. В Москве и Петербурге слушают похожую музыку. Единственное отличие — в московский рейтинг вошёл жанр “world”, а в петербургский — джаз и классика.\n",
        "\n",
        "2. В Москве пропущенных значений оказалось так много, что значение `'unknown'` заняло десятое место среди самых популярных жанров. Значит, пропущенные значения занимают существенную долю в данных и угрожают достоверности исследования.\n",
        "\n",
        "Вечер пятницы не меняет эту картину. Некоторые жанры поднимаются немного выше, другие спускаются, но в целом топ-10 остаётся тем же самым.\n",
        "\n",
        "Таким образом, вторая гипотеза подтвердилась лишь частично:\n",
        "* Пользователи слушают похожую музыку в начале недели и в конце.\n",
        "* Разница между Москвой и Петербургом не слишком выражена. В Москве чаще слушают русскую популярную музыку, в Петербурге — джаз.\n",
        "\n",
        "Однако пропуски в данных ставят под сомнение этот результат. В Москве их так много, что рейтинг топ-10 мог бы выглядеть иначе, если бы не утерянные  данные о жанрах."
      ]
    },
    {
      "cell_type": "markdown",
      "metadata": {
        "deletable": false,
        "editable": false,
        "id": "JolODAqr_Zcu"
      },
      "source": [
        "### Жанровые предпочтения в Москве и Петербурге\n",
        "\n",
        "Гипотеза: Петербург — столица рэпа, музыку этого жанра там слушают чаще, чем в Москве.  А Москва — город контрастов, в котором, тем не менее, преобладает поп-музыка."
      ]
    },
    {
      "cell_type": "markdown",
      "metadata": {
        "deletable": false,
        "editable": false,
        "id": "DlegSvaT_Zcu",
        "tags": [
          "start_task"
        ]
      },
      "source": [
        "**Задание 26**\n",
        "\n",
        "Сгруппируйте таблицу `moscow_general` по жанру и посчитайте прослушивания треков каждого жанра методом `count()`. Затем отсортируйте результат в порядке убывания и сохраните его в таблице `moscow_genres`."
      ]
    },
    {
      "cell_type": "code",
      "execution_count": 38,
      "metadata": {
        "deletable": false,
        "id": "r19lIPke_Zcu"
      },
      "outputs": [],
      "source": [
        "a = moscow_general.groupby('genre')['genre'].count() # одной строкой: группировка таблицы moscow_general по столбцу 'genre', \n",
        "moscow_genres = a.sort_values(ascending = False) # подсчёт числа значений 'genre' в этой группировке методом count(), \n",
        "# сортировка получившегося Series в порядке убывания и сохранение в moscow_genres"
      ]
    },
    {
      "cell_type": "markdown",
      "metadata": {
        "deletable": false,
        "editable": false,
        "id": "6kMuomxTiIr8",
        "tags": [
          "start_task"
        ]
      },
      "source": [
        "**Задание 27**\n",
        "\n",
        "Выведите на экран первые десять строк `moscow_genres`:"
      ]
    },
    {
      "cell_type": "code",
      "execution_count": 39,
      "metadata": {
        "deletable": false,
        "id": "WhCSooF8_Zcv",
        "colab": {
          "base_uri": "https://localhost:8080/"
        },
        "outputId": "fa38e820-c8b1-4117-f53d-e89e5ca6c501"
      },
      "outputs": [
        {
          "output_type": "execute_result",
          "data": {
            "text/plain": [
              "genre\n",
              "pop            5892\n",
              "dance          4435\n",
              "rock           3965\n",
              "electronic     3786\n",
              "hiphop         2096\n",
              "classical      1616\n",
              "world          1432\n",
              "alternative    1379\n",
              "ruspop         1372\n",
              "rusrap         1161\n",
              "Name: genre, dtype: int64"
            ]
          },
          "metadata": {},
          "execution_count": 39
        }
      ],
      "source": [
        "moscow_genres.head(10) # просмотр первых 10 строк moscow_genres"
      ]
    },
    {
      "cell_type": "markdown",
      "metadata": {
        "deletable": false,
        "editable": false,
        "id": "cnPG2vnN_Zcv",
        "tags": [
          "start_task"
        ]
      },
      "source": [
        "**Задание 28**\n",
        "\n",
        "\n",
        "Теперь повторите то же и для Петербурга.\n",
        "\n",
        "Сгруппируйте таблицу `spb_general` по жанру. Посчитайте прослушивания треков каждого жанра. Результат отсортируйте в порядке убывания и сохраните в таблице `spb_genres`:\n"
      ]
    },
    {
      "cell_type": "code",
      "execution_count": 40,
      "metadata": {
        "deletable": false,
        "id": "gluLIpE7_Zcv"
      },
      "outputs": [],
      "source": [
        "a = spb_general.groupby('genre')['genre'].count() # одной строкой: группировка таблицы moscow_general по столбцу 'genre', \n",
        "spb_genres = a.sort_values(ascending = False)# одной строкой: группировка таблицы spb_general по столбцу 'genre', \n",
        "# подсчёт числа значений 'genre' в этой группировке методом count(), \n",
        "# сортировка получившегося Series в порядке убывания и сохранение в spb_genres"
      ]
    },
    {
      "cell_type": "markdown",
      "metadata": {
        "deletable": false,
        "editable": false,
        "id": "5Doha_ODgyQ8",
        "tags": [
          "start_task"
        ]
      },
      "source": [
        "**Задание 29**\n",
        "\n",
        "Выведите на экран первые десять строк `spb_genres`:"
      ]
    },
    {
      "cell_type": "code",
      "execution_count": 41,
      "metadata": {
        "deletable": false,
        "id": "uaGJHjVU_Zcv",
        "colab": {
          "base_uri": "https://localhost:8080/"
        },
        "outputId": "7a12d236-fb4b-4044-d0d5-1e2091d0c7ef"
      },
      "outputs": [
        {
          "output_type": "execute_result",
          "data": {
            "text/plain": [
              "genre\n",
              "pop            2431\n",
              "dance          1932\n",
              "rock           1879\n",
              "electronic     1736\n",
              "hiphop          960\n",
              "alternative     649\n",
              "classical       646\n",
              "rusrap          564\n",
              "ruspop          538\n",
              "world           515\n",
              "Name: genre, dtype: int64"
            ]
          },
          "metadata": {},
          "execution_count": 41
        }
      ],
      "source": [
        "spb_genres.head(10) # просмотр первых 10 строк spb_genres"
      ]
    },
    {
      "cell_type": "markdown",
      "metadata": {
        "deletable": false,
        "editable": false,
        "id": "RY51YJYu_Zcv"
      },
      "source": [
        "**Выводы**"
      ]
    },
    {
      "cell_type": "markdown",
      "metadata": {
        "deletable": false,
        "editable": false,
        "id": "nVhnJEm__Zcv"
      },
      "source": [
        "Гипотеза частично подтвердилась:\n",
        "* Поп-музыка — самый популярный жанр в Москве, как и предполагала гипотеза. Более того, в топ-10 жанров встречается близкий жанр — русская популярная музыка.\n",
        "* Вопреки ожиданиям, рэп одинаково популярен в Москве и Петербурге. \n"
      ]
    },
    {
      "cell_type": "markdown",
      "metadata": {
        "deletable": false,
        "editable": false,
        "id": "ykKQ0N65_Zcv"
      },
      "source": [
        "## Итоги исследования"
      ]
    },
    {
      "cell_type": "markdown",
      "metadata": {
        "deletable": false,
        "editable": false,
        "id": "tjUwbHb3_Zcv"
      },
      "source": [
        "Вы проверили три гипотезы и установили:\n",
        "\n",
        "1. День недели по-разному влияет на активность пользователей в Москве и Петербурге. \n",
        "\n",
        "Первая гипотеза полностью подтвердилась.\n",
        "\n",
        "2. Музыкальные предпочтения не сильно меняются в течение недели — будь то Москва или Петербург. Небольшие различия заметны в начале недели, по понедельникам:\n",
        "* в Москве слушают музыку жанра “world”,\n",
        "* в Петербурге — джаз и классику.\n",
        "\n",
        "Таким образом, вторая гипотеза подтвердилась лишь отчасти. Этот результат мог оказаться иным, если бы не пропуски в данных.\n",
        "\n",
        "3. Во вкусах пользователей Москвы и Петербурга больше общего чем различий. Вопреки ожиданиям, предпочтения жанров в Петербурге напоминают московские.\n",
        "\n",
        "Третья гипотеза не подтвердилась. Если различия в предпочтениях и существуют, на основной массе пользователей они незаметны."
      ]
    },
    {
      "cell_type": "code",
      "execution_count": null,
      "metadata": {
        "id": "xXIwNKcU76lW"
      },
      "outputs": [],
      "source": []
    }
  ],
  "metadata": {
    "ExecuteTimeLog": [
      {
        "duration": 29,
        "start_time": "2022-06-18T21:56:11.087Z"
      },
      {
        "duration": 18,
        "start_time": "2022-06-18T21:56:28.091Z"
      },
      {
        "duration": 410,
        "start_time": "2022-06-18T22:03:22.120Z"
      },
      {
        "duration": 4,
        "start_time": "2022-06-18T22:03:22.532Z"
      },
      {
        "duration": 0,
        "start_time": "2022-06-18T22:03:22.539Z"
      },
      {
        "duration": 0,
        "start_time": "2022-06-18T22:03:22.541Z"
      },
      {
        "duration": 0,
        "start_time": "2022-06-18T22:03:22.542Z"
      },
      {
        "duration": 0,
        "start_time": "2022-06-18T22:03:22.543Z"
      },
      {
        "duration": 0,
        "start_time": "2022-06-18T22:03:22.545Z"
      },
      {
        "duration": 0,
        "start_time": "2022-06-18T22:03:22.546Z"
      },
      {
        "duration": 0,
        "start_time": "2022-06-18T22:03:22.548Z"
      },
      {
        "duration": 0,
        "start_time": "2022-06-18T22:03:22.549Z"
      },
      {
        "duration": 0,
        "start_time": "2022-06-18T22:03:22.550Z"
      },
      {
        "duration": 0,
        "start_time": "2022-06-18T22:03:22.552Z"
      },
      {
        "duration": 0,
        "start_time": "2022-06-18T22:03:22.553Z"
      },
      {
        "duration": 0,
        "start_time": "2022-06-18T22:03:22.554Z"
      },
      {
        "duration": 0,
        "start_time": "2022-06-18T22:03:22.556Z"
      },
      {
        "duration": 0,
        "start_time": "2022-06-18T22:03:22.557Z"
      },
      {
        "duration": 0,
        "start_time": "2022-06-18T22:03:22.558Z"
      },
      {
        "duration": 0,
        "start_time": "2022-06-18T22:03:22.560Z"
      },
      {
        "duration": 0,
        "start_time": "2022-06-18T22:03:22.561Z"
      },
      {
        "duration": 0,
        "start_time": "2022-06-18T22:03:22.562Z"
      },
      {
        "duration": 1,
        "start_time": "2022-06-18T22:03:22.563Z"
      },
      {
        "duration": 0,
        "start_time": "2022-06-18T22:03:22.565Z"
      },
      {
        "duration": 0,
        "start_time": "2022-06-18T22:03:22.566Z"
      },
      {
        "duration": 0,
        "start_time": "2022-06-18T22:03:22.567Z"
      },
      {
        "duration": 0,
        "start_time": "2022-06-18T22:03:22.567Z"
      },
      {
        "duration": 0,
        "start_time": "2022-06-18T22:03:22.568Z"
      },
      {
        "duration": 0,
        "start_time": "2022-06-18T22:03:22.569Z"
      },
      {
        "duration": 0,
        "start_time": "2022-06-18T22:03:22.570Z"
      },
      {
        "duration": 0,
        "start_time": "2022-06-18T22:03:22.571Z"
      },
      {
        "duration": 0,
        "start_time": "2022-06-18T22:03:22.572Z"
      },
      {
        "duration": 0,
        "start_time": "2022-06-18T22:03:22.573Z"
      },
      {
        "duration": 0,
        "start_time": "2022-06-18T22:03:22.627Z"
      },
      {
        "duration": 0,
        "start_time": "2022-06-18T22:03:22.628Z"
      },
      {
        "duration": 0,
        "start_time": "2022-06-18T22:03:22.630Z"
      },
      {
        "duration": 0,
        "start_time": "2022-06-18T22:03:22.631Z"
      },
      {
        "duration": 0,
        "start_time": "2022-06-18T22:03:22.632Z"
      },
      {
        "duration": 0,
        "start_time": "2022-06-18T22:03:22.633Z"
      },
      {
        "duration": 0,
        "start_time": "2022-06-18T22:03:22.634Z"
      },
      {
        "duration": 180,
        "start_time": "2022-06-18T22:06:38.238Z"
      },
      {
        "duration": 17,
        "start_time": "2022-06-18T22:07:41.695Z"
      },
      {
        "duration": 30,
        "start_time": "2022-06-18T22:08:39.303Z"
      },
      {
        "duration": 57,
        "start_time": "2022-06-18T22:12:22.459Z"
      },
      {
        "duration": 9,
        "start_time": "2022-06-18T22:13:38.381Z"
      },
      {
        "duration": 7,
        "start_time": "2022-06-18T22:18:17.387Z"
      },
      {
        "duration": 4,
        "start_time": "2022-06-18T22:18:27.550Z"
      },
      {
        "duration": 82,
        "start_time": "2022-06-19T13:20:18.963Z"
      },
      {
        "duration": 373,
        "start_time": "2022-06-19T13:20:41.279Z"
      },
      {
        "duration": 238,
        "start_time": "2022-06-19T13:20:42.352Z"
      },
      {
        "duration": 15,
        "start_time": "2022-06-19T13:20:43.356Z"
      },
      {
        "duration": 35,
        "start_time": "2022-06-19T13:20:44.558Z"
      },
      {
        "duration": 3,
        "start_time": "2022-06-19T13:20:46.472Z"
      },
      {
        "duration": 3,
        "start_time": "2022-06-19T13:20:49.294Z"
      },
      {
        "duration": 11,
        "start_time": "2022-06-19T13:20:52.556Z"
      },
      {
        "duration": 4,
        "start_time": "2022-06-19T13:21:22.412Z"
      },
      {
        "duration": 25,
        "start_time": "2022-06-19T13:22:43.292Z"
      },
      {
        "duration": 26,
        "start_time": "2022-06-19T13:27:37.031Z"
      },
      {
        "duration": 7,
        "start_time": "2022-06-19T13:28:22.661Z"
      },
      {
        "duration": 9,
        "start_time": "2022-06-19T13:32:44.116Z"
      },
      {
        "duration": 7,
        "start_time": "2022-06-19T13:32:56.952Z"
      },
      {
        "duration": 11,
        "start_time": "2022-06-19T13:33:29.189Z"
      },
      {
        "duration": 288,
        "start_time": "2022-06-19T13:34:26.886Z"
      },
      {
        "duration": 322,
        "start_time": "2022-06-19T13:35:19.136Z"
      },
      {
        "duration": 8,
        "start_time": "2022-06-19T13:36:01.404Z"
      },
      {
        "duration": 420,
        "start_time": "2022-06-19T13:36:17.960Z"
      },
      {
        "duration": 3,
        "start_time": "2022-06-19T13:37:08.064Z"
      },
      {
        "duration": 179,
        "start_time": "2022-06-19T13:37:09.018Z"
      },
      {
        "duration": 9,
        "start_time": "2022-06-19T13:37:09.885Z"
      },
      {
        "duration": 27,
        "start_time": "2022-06-19T13:37:10.757Z"
      },
      {
        "duration": 2,
        "start_time": "2022-06-19T13:37:17.252Z"
      },
      {
        "duration": 4,
        "start_time": "2022-06-19T13:37:21.352Z"
      },
      {
        "duration": 10,
        "start_time": "2022-06-19T13:37:26.852Z"
      },
      {
        "duration": 3,
        "start_time": "2022-06-19T13:37:30.056Z"
      },
      {
        "duration": 25,
        "start_time": "2022-06-19T13:37:33.500Z"
      },
      {
        "duration": 330,
        "start_time": "2022-06-19T13:37:39.246Z"
      },
      {
        "duration": 370,
        "start_time": "2022-06-19T13:39:49.560Z"
      },
      {
        "duration": 19,
        "start_time": "2022-06-19T13:40:15.348Z"
      },
      {
        "duration": 24,
        "start_time": "2022-06-19T13:41:04.828Z"
      },
      {
        "duration": 97,
        "start_time": "2022-06-19T13:41:24.585Z"
      },
      {
        "duration": 62,
        "start_time": "2022-06-19T13:42:05.617Z"
      },
      {
        "duration": 96,
        "start_time": "2022-06-19T13:43:27.468Z"
      },
      {
        "duration": 57,
        "start_time": "2022-06-19T13:44:03.072Z"
      },
      {
        "duration": 7,
        "start_time": "2022-06-19T20:22:53.130Z"
      },
      {
        "duration": 12,
        "start_time": "2022-06-19T20:37:39.446Z"
      },
      {
        "duration": 14,
        "start_time": "2022-06-19T20:44:28.012Z"
      },
      {
        "duration": 9,
        "start_time": "2022-06-19T20:44:50.116Z"
      },
      {
        "duration": 25,
        "start_time": "2022-06-19T20:45:16.668Z"
      },
      {
        "duration": 10,
        "start_time": "2022-06-19T20:45:45.173Z"
      },
      {
        "duration": 7,
        "start_time": "2022-06-19T20:46:08.206Z"
      },
      {
        "duration": 8,
        "start_time": "2022-06-19T20:46:17.757Z"
      },
      {
        "duration": 8,
        "start_time": "2022-06-19T20:47:09.455Z"
      },
      {
        "duration": 5,
        "start_time": "2022-06-19T20:47:16.814Z"
      },
      {
        "duration": 8,
        "start_time": "2022-06-19T20:48:29.294Z"
      },
      {
        "duration": 36,
        "start_time": "2022-06-19T20:49:15.895Z"
      },
      {
        "duration": 47,
        "start_time": "2022-06-19T20:50:05.048Z"
      },
      {
        "duration": 41,
        "start_time": "2022-06-19T20:50:15.360Z"
      },
      {
        "duration": 43,
        "start_time": "2022-06-19T20:50:41.032Z"
      },
      {
        "duration": 35,
        "start_time": "2022-06-19T20:50:54.705Z"
      },
      {
        "duration": 41,
        "start_time": "2022-06-19T20:51:14.843Z"
      },
      {
        "duration": 42,
        "start_time": "2022-06-19T20:52:19.505Z"
      },
      {
        "duration": 42,
        "start_time": "2022-06-19T20:52:48.417Z"
      },
      {
        "duration": 39,
        "start_time": "2022-06-19T20:53:08.066Z"
      },
      {
        "duration": 42,
        "start_time": "2022-06-19T20:53:17.954Z"
      },
      {
        "duration": 40,
        "start_time": "2022-06-19T20:53:21.502Z"
      },
      {
        "duration": 36,
        "start_time": "2022-06-19T20:53:49.566Z"
      },
      {
        "duration": 36,
        "start_time": "2022-06-19T20:54:42.150Z"
      },
      {
        "duration": 36,
        "start_time": "2022-06-19T20:55:02.987Z"
      },
      {
        "duration": 37,
        "start_time": "2022-06-19T20:55:17.291Z"
      },
      {
        "duration": 5,
        "start_time": "2022-06-19T20:58:53.404Z"
      },
      {
        "duration": 10,
        "start_time": "2022-06-19T21:00:40.662Z"
      },
      {
        "duration": 4,
        "start_time": "2022-06-19T21:01:11.814Z"
      },
      {
        "duration": 45,
        "start_time": "2022-06-19T21:01:49.146Z"
      },
      {
        "duration": 36,
        "start_time": "2022-06-19T21:01:54.679Z"
      },
      {
        "duration": 10,
        "start_time": "2022-06-19T21:02:00.494Z"
      },
      {
        "duration": 37,
        "start_time": "2022-06-19T21:02:29.887Z"
      },
      {
        "duration": 7,
        "start_time": "2022-06-19T21:07:10.925Z"
      },
      {
        "duration": 33,
        "start_time": "2022-06-19T21:09:37.644Z"
      },
      {
        "duration": 10,
        "start_time": "2022-06-19T21:10:48.172Z"
      },
      {
        "duration": 11,
        "start_time": "2022-06-19T21:11:45.156Z"
      },
      {
        "duration": 19,
        "start_time": "2022-06-19T21:15:18.105Z"
      },
      {
        "duration": 19,
        "start_time": "2022-06-19T21:15:31.346Z"
      },
      {
        "duration": 22,
        "start_time": "2022-06-19T21:15:40.952Z"
      },
      {
        "duration": 29,
        "start_time": "2022-06-19T21:16:18.378Z"
      },
      {
        "duration": 4,
        "start_time": "2022-06-19T21:21:57.893Z"
      },
      {
        "duration": 4,
        "start_time": "2022-06-19T21:23:24.595Z"
      },
      {
        "duration": 4,
        "start_time": "2022-06-19T21:24:05.359Z"
      },
      {
        "duration": 10,
        "start_time": "2022-06-19T21:25:11.748Z"
      },
      {
        "duration": 10,
        "start_time": "2022-06-19T21:27:22.381Z"
      },
      {
        "duration": 3,
        "start_time": "2022-06-19T21:28:26.903Z"
      },
      {
        "duration": 3,
        "start_time": "2022-06-19T21:28:35.614Z"
      },
      {
        "duration": 418,
        "start_time": "2022-06-19T21:28:37.981Z"
      },
      {
        "duration": 3,
        "start_time": "2022-06-19T21:28:56.470Z"
      },
      {
        "duration": 21,
        "start_time": "2022-06-19T21:28:58.423Z"
      },
      {
        "duration": 25,
        "start_time": "2022-06-19T21:29:00.646Z"
      },
      {
        "duration": 20,
        "start_time": "2022-06-19T21:29:01.342Z"
      },
      {
        "duration": 18,
        "start_time": "2022-06-19T21:29:01.805Z"
      },
      {
        "duration": 20,
        "start_time": "2022-06-19T21:29:03.366Z"
      },
      {
        "duration": 18,
        "start_time": "2022-06-19T21:29:04.309Z"
      },
      {
        "duration": 3,
        "start_time": "2022-06-19T21:30:00.463Z"
      },
      {
        "duration": 23,
        "start_time": "2022-06-19T21:30:01.856Z"
      },
      {
        "duration": 19,
        "start_time": "2022-06-19T21:30:02.438Z"
      },
      {
        "duration": 22,
        "start_time": "2022-06-19T21:30:02.918Z"
      },
      {
        "duration": 18,
        "start_time": "2022-06-19T21:30:03.704Z"
      },
      {
        "duration": 22,
        "start_time": "2022-06-19T21:30:04.439Z"
      },
      {
        "duration": 19,
        "start_time": "2022-06-19T21:30:05.047Z"
      },
      {
        "duration": 3,
        "start_time": "2022-06-19T21:31:03.968Z"
      },
      {
        "duration": 17,
        "start_time": "2022-06-19T21:31:05.495Z"
      },
      {
        "duration": 14,
        "start_time": "2022-06-19T21:31:06.039Z"
      },
      {
        "duration": 18,
        "start_time": "2022-06-19T21:31:06.486Z"
      },
      {
        "duration": 15,
        "start_time": "2022-06-19T21:31:07.047Z"
      },
      {
        "duration": 16,
        "start_time": "2022-06-19T21:31:07.705Z"
      },
      {
        "duration": 15,
        "start_time": "2022-06-19T21:31:08.254Z"
      },
      {
        "duration": 4,
        "start_time": "2022-06-19T21:31:23.615Z"
      },
      {
        "duration": 21,
        "start_time": "2022-06-19T21:31:25.015Z"
      },
      {
        "duration": 21,
        "start_time": "2022-06-19T21:31:25.406Z"
      },
      {
        "duration": 26,
        "start_time": "2022-06-19T21:31:25.775Z"
      },
      {
        "duration": 19,
        "start_time": "2022-06-19T21:31:26.191Z"
      },
      {
        "duration": 21,
        "start_time": "2022-06-19T21:31:26.751Z"
      },
      {
        "duration": 19,
        "start_time": "2022-06-19T21:31:27.415Z"
      },
      {
        "duration": 3,
        "start_time": "2022-06-19T21:33:03.438Z"
      },
      {
        "duration": 15,
        "start_time": "2022-06-19T21:33:05.057Z"
      },
      {
        "duration": 14,
        "start_time": "2022-06-19T21:33:05.506Z"
      },
      {
        "duration": 15,
        "start_time": "2022-06-19T21:33:06.306Z"
      },
      {
        "duration": 13,
        "start_time": "2022-06-19T21:33:06.868Z"
      },
      {
        "duration": 16,
        "start_time": "2022-06-19T21:33:07.619Z"
      },
      {
        "duration": 14,
        "start_time": "2022-06-19T21:33:08.432Z"
      },
      {
        "duration": 7,
        "start_time": "2022-06-19T21:37:09.379Z"
      },
      {
        "duration": 7,
        "start_time": "2022-06-19T21:37:49.380Z"
      },
      {
        "duration": 4,
        "start_time": "2022-06-19T21:42:05.070Z"
      },
      {
        "duration": 4,
        "start_time": "2022-06-19T21:42:15.006Z"
      },
      {
        "duration": 45,
        "start_time": "2022-06-19T22:47:39.829Z"
      },
      {
        "duration": 346,
        "start_time": "2022-06-19T22:47:51.713Z"
      },
      {
        "duration": 239,
        "start_time": "2022-06-19T22:47:52.138Z"
      },
      {
        "duration": 21,
        "start_time": "2022-06-19T22:47:52.508Z"
      },
      {
        "duration": 38,
        "start_time": "2022-06-19T22:47:52.882Z"
      },
      {
        "duration": 2,
        "start_time": "2022-06-19T22:47:53.441Z"
      },
      {
        "duration": 4,
        "start_time": "2022-06-19T22:47:54.176Z"
      },
      {
        "duration": 12,
        "start_time": "2022-06-19T22:47:54.545Z"
      },
      {
        "duration": 4,
        "start_time": "2022-06-19T22:47:54.923Z"
      },
      {
        "duration": 29,
        "start_time": "2022-06-19T22:47:55.314Z"
      },
      {
        "duration": 18,
        "start_time": "2022-06-19T22:47:55.890Z"
      },
      {
        "duration": 22,
        "start_time": "2022-06-19T22:47:56.273Z"
      },
      {
        "duration": 60,
        "start_time": "2022-06-19T22:47:56.666Z"
      },
      {
        "duration": 72,
        "start_time": "2022-06-19T22:47:57.051Z"
      },
      {
        "duration": 55,
        "start_time": "2022-06-19T22:47:57.434Z"
      },
      {
        "duration": 34,
        "start_time": "2022-06-19T22:47:58.018Z"
      },
      {
        "duration": 10,
        "start_time": "2022-06-19T22:47:58.410Z"
      },
      {
        "duration": 33,
        "start_time": "2022-06-19T22:47:58.824Z"
      },
      {
        "duration": 11,
        "start_time": "2022-06-19T22:48:00.434Z"
      },
      {
        "duration": 11,
        "start_time": "2022-06-19T22:48:00.818Z"
      },
      {
        "duration": 6,
        "start_time": "2022-06-19T22:48:01.817Z"
      },
      {
        "duration": 16,
        "start_time": "2022-06-19T22:48:03.954Z"
      },
      {
        "duration": 16,
        "start_time": "2022-06-19T22:48:04.567Z"
      },
      {
        "duration": 14,
        "start_time": "2022-06-19T22:48:04.994Z"
      },
      {
        "duration": 13,
        "start_time": "2022-06-19T22:48:05.365Z"
      },
      {
        "duration": 16,
        "start_time": "2022-06-19T22:48:05.795Z"
      },
      {
        "duration": 14,
        "start_time": "2022-06-19T22:48:06.170Z"
      },
      {
        "duration": 4,
        "start_time": "2022-06-19T22:48:13.515Z"
      },
      {
        "duration": 11,
        "start_time": "2022-06-19T22:48:18.589Z"
      },
      {
        "duration": 9,
        "start_time": "2022-06-19T22:49:05.093Z"
      },
      {
        "duration": 89,
        "start_time": "2022-06-19T22:52:48.525Z"
      },
      {
        "duration": 61,
        "start_time": "2022-06-19T22:55:44.677Z"
      },
      {
        "duration": 6,
        "start_time": "2022-06-19T22:57:18.981Z"
      },
      {
        "duration": 6,
        "start_time": "2022-06-19T22:57:37.217Z"
      },
      {
        "duration": 28,
        "start_time": "2022-06-19T23:00:12.408Z"
      },
      {
        "duration": 10,
        "start_time": "2022-06-19T23:01:00.513Z"
      },
      {
        "duration": 4,
        "start_time": "2022-06-19T23:01:14.399Z"
      },
      {
        "duration": 42,
        "start_time": "2022-06-19T23:01:16.472Z"
      },
      {
        "duration": 4,
        "start_time": "2022-06-19T23:03:40.428Z"
      },
      {
        "duration": 24,
        "start_time": "2022-06-19T23:03:41.804Z"
      },
      {
        "duration": 22,
        "start_time": "2022-06-19T23:03:42.827Z"
      },
      {
        "duration": 4,
        "start_time": "2022-06-19T23:04:24.169Z"
      },
      {
        "duration": 912,
        "start_time": "2022-06-19T23:04:25.339Z"
      },
      {
        "duration": 4,
        "start_time": "2022-06-19T23:04:58.109Z"
      },
      {
        "duration": 31,
        "start_time": "2022-06-19T23:05:00.077Z"
      },
      {
        "duration": 4,
        "start_time": "2022-06-19T23:05:14.077Z"
      },
      {
        "duration": 963,
        "start_time": "2022-06-19T23:05:15.132Z"
      },
      {
        "duration": 5,
        "start_time": "2022-06-19T23:06:14.790Z"
      },
      {
        "duration": 20,
        "start_time": "2022-06-19T23:06:15.893Z"
      },
      {
        "duration": 7,
        "start_time": "2022-06-19T23:09:36.752Z"
      },
      {
        "duration": 38,
        "start_time": "2022-06-19T23:09:37.848Z"
      },
      {
        "duration": 12,
        "start_time": "2022-06-19T23:09:46.983Z"
      },
      {
        "duration": 19,
        "start_time": "2022-06-19T23:09:47.798Z"
      },
      {
        "duration": 5,
        "start_time": "2022-06-19T23:09:59.873Z"
      },
      {
        "duration": 15,
        "start_time": "2022-06-19T23:10:00.679Z"
      },
      {
        "duration": 9,
        "start_time": "2022-06-19T23:10:09.580Z"
      },
      {
        "duration": 16,
        "start_time": "2022-06-19T23:10:15.807Z"
      },
      {
        "duration": 8,
        "start_time": "2022-06-19T23:10:17.137Z"
      },
      {
        "duration": 9,
        "start_time": "2022-06-19T23:10:38.222Z"
      },
      {
        "duration": 16,
        "start_time": "2022-06-19T23:11:05.583Z"
      },
      {
        "duration": 10,
        "start_time": "2022-06-19T23:11:06.179Z"
      },
      {
        "duration": 32,
        "start_time": "2022-06-19T23:11:06.743Z"
      },
      {
        "duration": 8,
        "start_time": "2022-06-19T23:11:07.295Z"
      },
      {
        "duration": 20,
        "start_time": "2022-06-19T23:11:54.504Z"
      },
      {
        "duration": 10,
        "start_time": "2022-06-19T23:12:06.440Z"
      },
      {
        "duration": 12,
        "start_time": "2022-06-19T23:12:08.470Z"
      },
      {
        "duration": 16,
        "start_time": "2022-06-19T23:12:10.800Z"
      },
      {
        "duration": 8,
        "start_time": "2022-06-19T23:12:11.289Z"
      },
      {
        "duration": 23,
        "start_time": "2022-06-19T23:12:13.955Z"
      },
      {
        "duration": 8,
        "start_time": "2022-06-19T23:12:15.338Z"
      },
      {
        "duration": 12,
        "start_time": "2022-06-19T23:12:55.678Z"
      },
      {
        "duration": 18,
        "start_time": "2022-06-19T23:13:05.512Z"
      },
      {
        "duration": 13,
        "start_time": "2022-06-19T23:13:19.312Z"
      },
      {
        "duration": 11,
        "start_time": "2022-06-19T23:17:21.777Z"
      },
      {
        "duration": 9,
        "start_time": "2022-06-19T23:17:59.845Z"
      },
      {
        "duration": 5,
        "start_time": "2022-06-19T23:18:28.476Z"
      },
      {
        "duration": 6,
        "start_time": "2022-06-19T23:19:14.894Z"
      },
      {
        "duration": 5,
        "start_time": "2022-06-19T23:20:17.308Z"
      }
    ],
    "colab": {
      "collapsed_sections": [],
      "provenance": [],
      "toc_visible": true
    },
    "kernelspec": {
      "display_name": "Python 3 (ipykernel)",
      "language": "python",
      "name": "python3"
    },
    "language_info": {
      "codemirror_mode": {
        "name": "ipython",
        "version": 3
      },
      "file_extension": ".py",
      "mimetype": "text/x-python",
      "name": "python",
      "nbconvert_exporter": "python",
      "pygments_lexer": "ipython3",
      "version": "3.9.13"
    },
    "toc": {
      "base_numbering": 1,
      "nav_menu": {
        "height": "215px",
        "width": "403px"
      },
      "number_sections": true,
      "sideBar": true,
      "skip_h1_title": true,
      "title_cell": "Table of Contents",
      "title_sidebar": "Contents",
      "toc_cell": false,
      "toc_position": {
        "height": "calc(100% - 180px)",
        "left": "10px",
        "top": "150px",
        "width": "285.825px"
      },
      "toc_section_display": true,
      "toc_window_display": false
    }
  },
  "nbformat": 4,
  "nbformat_minor": 0
}